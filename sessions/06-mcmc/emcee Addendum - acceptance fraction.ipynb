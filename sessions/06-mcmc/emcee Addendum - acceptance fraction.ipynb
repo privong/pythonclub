{
 "cells": [
  {
   "cell_type": "markdown",
   "metadata": {},
   "source": [
    "# emcee Addendum: Scale Parameter and Acceptance Fraction\n",
    "\n",
    "A quick exploration of the \"proposal scale parameter\", $a$, the number of walkers, and the mean acceptance fraction, $f_{accept}$, for the chains.\n",
    "\n",
    "NB: The examples with just a handful of walkers shouldn't be construed as a suggestion to use such small numbers for actual implementations where you need accurate results. As you will see from the corner plots, the posterior distributions are not well sampled. Additionally, the runs with lower number of walkers appear to require longer \"burn-in\" times, which I have not made allowances for in this demonstration."
   ]
  },
  {
   "cell_type": "code",
   "execution_count": null,
   "metadata": {
    "collapsed": true
   },
   "outputs": [],
   "source": [
    "%matplotlib inline"
   ]
  },
  {
   "cell_type": "code",
   "execution_count": null,
   "metadata": {
    "collapsed": true
   },
   "outputs": [],
   "source": [
    "import numpy as np\n",
    "import matplotlib.pyplot as plt\n",
    "import scipy.optimize as op\n",
    "import emcee\n",
    "import corner"
   ]
  },
  {
   "cell_type": "code",
   "execution_count": null,
   "metadata": {
    "collapsed": true
   },
   "outputs": [],
   "source": [
    "nthreads=2"
   ]
  },
  {
   "cell_type": "code",
   "execution_count": null,
   "metadata": {
    "collapsed": true
   },
   "outputs": [],
   "source": [
    "# define our true relation\n",
    "m_true = 1.7\n",
    "b_true = 2.7\n",
    "f_true = 0.3"
   ]
  },
  {
   "cell_type": "code",
   "execution_count": null,
   "metadata": {
    "collapsed": true
   },
   "outputs": [],
   "source": [
    "# generate some data\n",
    "N = 30\n",
    "x = np.sort(10*np.random.rand(N))\n",
    "yerr = 0.2+0.6*np.random.rand(N)\n",
    "\n",
    "y = m_true*x+b_true\n",
    "y += np.abs(f_true*y) * np.random.randn(N)\n",
    "\n",
    "y += yerr * np.random.randn(N)"
   ]
  },
  {
   "cell_type": "code",
   "execution_count": null,
   "metadata": {
    "collapsed": false
   },
   "outputs": [],
   "source": [
    "fig = plt.figure()\n",
    "ax = fig.add_subplot(1, 1, 1)\n",
    "ax.errorbar(x, y,\n",
    "            yerr=yerr,\n",
    "            ls='',\n",
    "            marker='.',\n",
    "            color='gray',\n",
    "            label='Data')\n",
    "ax.plot(x, m_true*x + b_true,\n",
    "        color='black',\n",
    "        ls='-',\n",
    "        label='True Relation')\n",
    "ax.set_ylabel('y', fontsize='x-large')\n",
    "ax.set_xlabel('x', fontsize='x-large')\n",
    "ax.minorticks_on()\n",
    "ax.legend(loc='best')"
   ]
  },
  {
   "cell_type": "code",
   "execution_count": null,
   "metadata": {
    "collapsed": true
   },
   "outputs": [],
   "source": [
    "def lnlike(theta, x, y, yerr):\n",
    "    b, m, lnf = theta\n",
    "    model = m * x + b\n",
    "    inv_sigma2 = 1.0/(yerr**2 + model**2*np.exp(2*lnf))\n",
    "    return -0.5*(np.sum((y-model)**2*inv_sigma2 - np.log(inv_sigma2)))"
   ]
  },
  {
   "cell_type": "code",
   "execution_count": null,
   "metadata": {
    "collapsed": true
   },
   "outputs": [],
   "source": [
    "# let's make some initial guesses for our parameters\n",
    "# remember this is now theta and b_perp\n",
    "p2 = [b_true, m_true, f_true]\n",
    "nll = lambda *args: -lnlike(*args)\n",
    "result = op.minimize(nll,\n",
    "                     p2,\n",
    "                     args=(x, y, yerr))\n",
    "if not(result['success']):\n",
    "    print(\"Max likelihood failed.\")\n",
    "    print(result['message'])\n",
    "\n",
    "ml_b, ml_m, ml_f = result['x']"
   ]
  },
  {
   "cell_type": "code",
   "execution_count": null,
   "metadata": {
    "collapsed": true
   },
   "outputs": [],
   "source": [
    "def lnprior(theta):\n",
    "    b, m, lnf = theta\n",
    "    if lnf >= 0.0:\n",
    "        return -np.inf\n",
    "    return 0.0"
   ]
  },
  {
   "cell_type": "code",
   "execution_count": null,
   "metadata": {
    "collapsed": true
   },
   "outputs": [],
   "source": [
    "def lnprob(theta, x, y, yerr):\n",
    "    lp = lnprior(theta)\n",
    "    if not np.isfinite(lp):\n",
    "        return -np.inf\n",
    "    return lp + lnlike(theta, x, y, yerr)"
   ]
  },
  {
   "cell_type": "code",
   "execution_count": null,
   "metadata": {
    "collapsed": true
   },
   "outputs": [],
   "source": [
    "# now let's set up the MCMC chains\n",
    "ndim = 3\n",
    "nwalkers = [6, 10, 50, 100, 500]\n",
    "wcolors = ['k', 'b', 'g', 'r', 'c']\n",
    "steps = 500\n",
    "\n",
    "dim_name = [r'$b$', r'$m$', r'$\\ln f$']"
   ]
  },
  {
   "cell_type": "code",
   "execution_count": null,
   "metadata": {
    "collapsed": true
   },
   "outputs": [],
   "source": [
    "# explore a range of scale parameters\n",
    "scales = [2, 4, 6, 8]"
   ]
  },
  {
   "cell_type": "code",
   "execution_count": null,
   "metadata": {
    "collapsed": false
   },
   "outputs": [],
   "source": [
    "faccfig = plt.figure()\n",
    "faccax = faccfig.add_subplot(1, 1, 1)\n",
    "sfig = plt.figure()\n",
    "sax = sfig.add_subplot(1, 1, 1)\n",
    "for wco, walkers in enumerate(nwalkers):\n",
    "    afrac = []\n",
    "    # initialize the walkers to the vicinity of the parameters derived from\n",
    "    # ML\n",
    "    pos = [result[\"x\"] + 1e-3*np.random.randn(ndim) for i in range(walkers)]\n",
    "    for a in scales:\n",
    "        print(\"{0:d} walkers and {1:1.1f} scale.\".format(walkers, a))\n",
    "        # initialze the sampler\n",
    "        sampler = emcee.EnsembleSampler(walkers,\n",
    "                                        ndim,\n",
    "                                        lnprob,\n",
    "                                        a=a,\n",
    "                                        args=(x,\n",
    "                                              y,\n",
    "                                              yerr),\n",
    "                                        threads=nthreads)\n",
    "        sampler.run_mcmc(pos, steps)\n",
    "        samples = sampler.chain\n",
    "        fig = plt.figure()\n",
    "    \n",
    "        for dim in range(ndim):\n",
    "            ax = fig.add_subplot(ndim, 1, dim+1)\n",
    "            if dim==0:\n",
    "                ax.set_title('{0:d} walkers, {1:1.1f} scale'.format(walkers, a))\n",
    "            for i in range(walkers):\n",
    "                ax.plot(np.arange(steps),\n",
    "                        samples[i, :, dim],\n",
    "                        ls='-',\n",
    "                        color='black',\n",
    "                        alpha=10./walkers)\n",
    "            ax.set_ylabel(dim_name[dim], fontsize='large')\n",
    "        ax.set_xlabel('step', fontsize='large')\n",
    "        \n",
    "        # visualize the results\n",
    "        # ignore first 50 steps for burn in\n",
    "        samples = sampler.chain[:, 50:, :].reshape((-1, ndim))\n",
    "        corner.corner(samples,\n",
    "                      labels=[r\"$b$\", r\"$m$\", r\"$\\ln\\,f$\"],\n",
    "                      quantiles=[0.16, 0.5, 0.84],\n",
    "                      truths=[b_true,\n",
    "                              m_true,\n",
    "                              np.log(f_true)],\n",
    "                      show_titles=True)\n",
    "        \n",
    "        # get the best-fit slope\n",
    "        samples[:, 2] = np.exp(samples[:, 2])\n",
    "        b_mcmc, m_mcmc, f_mcmc = map(lambda v: (v[1], v[2]-v[1], v[1]-v[0]),\n",
    "                                     zip(*np.percentile(samples, [16, 50, 84],\n",
    "                                                        axis=0)))\n",
    "        afrac.append((a, np.mean(sampler.acceptance_fraction), m_mcmc[0], m_mcmc[1], m_mcmc[2]))\n",
    "        \n",
    "    afrac = np.array(afrac)\n",
    "\n",
    "    faccax.scatter(afrac[:,0], afrac[:, 1],\n",
    "                   marker='o',\n",
    "                   color=wcolors[wco],\n",
    "                   label=\"{0:d} walkers\".format(walkers))\n",
    "    sax.errorbar(afrac[:, 0],\n",
    "                 afrac[:, 2],\n",
    "                 yerr=[afrac[:, 3], afrac[:,4]],\n",
    "                 marker='o',\n",
    "                 ls='',\n",
    "                 color=wcolors[wco],\n",
    "                 label=\"{0:d} walkers\".format(walkers))\n",
    "faccax.set_xlabel(r'a', fontsize='large')\n",
    "faccax.set_ylabel(r'$f_{accept}$', fontsize='large')\n",
    "faccax.minorticks_on()\n",
    "faccax.legend(loc='best', frameon=True)\n",
    "sax.axhline(m_true, ls='--', color='gray', label=r'$m_{true}$')\n",
    "sax.set_xlabel(r'a', fontsize='large')\n",
    "sax.set_ylabel(r'$m_{MCMC,fit}$', fontsize='large')\n",
    "sax.set_xlim([scales[0]-1, scales[-1] + 6])\n",
    "ylim = sax.get_ylim()\n",
    "sax.set_ylim([np.min([m_true-0.1, ylim[0]]), np.max([m_true+0.1, ylim[1]])])\n",
    "sax.minorticks_on()\n",
    "sax.legend(loc='best', frameon=True)"
   ]
  },
  {
   "cell_type": "code",
   "execution_count": null,
   "metadata": {
    "collapsed": true
   },
   "outputs": [],
   "source": []
  }
 ],
 "metadata": {
  "kernelspec": {
   "display_name": "Python 3",
   "language": "python",
   "name": "python3"
  },
  "language_info": {
   "codemirror_mode": {
    "name": "ipython",
    "version": 3
   },
   "file_extension": ".py",
   "mimetype": "text/x-python",
   "name": "python",
   "nbconvert_exporter": "python",
   "pygments_lexer": "ipython3",
   "version": "3.5.2"
  }
 },
 "nbformat": 4,
 "nbformat_minor": 1
}
